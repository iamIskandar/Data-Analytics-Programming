{
 "cells": [
  {
   "cell_type": "code",
   "execution_count": 38,
   "metadata": {},
   "outputs": [],
   "source": [
    "def calculate_daily_sale(data):\n",
    "    salesDict={}\n",
    "    for transaction in data:\n",
    "        detail=transaction.split()\n",
    "        date,item,quantity,price=detail\n",
    "        totalSales=int(quantity)*float(price)\n",
    "        if date in salesDict:\n",
    "            if item in salesDict[date]:\n",
    "                salesDict[date][item]+=float(f'{totalSales}')\n",
    "            else:\n",
    "                salesDict[date][item]=float(f'{totalSales}')\n",
    "        else:\n",
    "            salesDict[date]={item:float(f'{totalSales}')}\n",
    "    return salesDict"
   ]
  },
  {
   "cell_type": "code",
   "execution_count": 41,
   "metadata": {},
   "outputs": [],
   "source": [
    "def get_total_sale(resultDict):\n",
    "    itemDict={}\n",
    "    for sale in resultDict:\n",
    "        for item in resultDict[sale]:\n",
    "            if item in itemDict:\n",
    "                itemDict[item]+=float(f'{resultDict[sale][item]}')\n",
    "            else:\n",
    "                itemDict[item]=float(f'{resultDict[sale][item]}')\n",
    "    print(itemDict)"
   ]
  },
  {
   "cell_type": "code",
   "execution_count": 42,
   "metadata": {},
   "outputs": [
    {
     "name": "stdout",
     "output_type": "stream",
     "text": [
      "{'Item_A': 13.3, 'Item_B': 10.799999999999999}\n",
      "10.799999999999999\n",
      "\n",
      "\n",
      "\n",
      "\n",
      "{'Item_A': 159.6, 'Item_B': 96.0, 'Item_C': 81.9, 'Item_D': 153.90000000000003, 'Item_E': 13.200000000000001, 'Item_F': 25.6}\n"
     ]
    }
   ],
   "source": [
    "lines=[inputFile.strip() for inputFile in open('data_assignment_1.txt')]\n",
    "result=calculate_daily_sale(lines)\n",
    "\n",
    "\n",
    "print(result['2020-09-23'])\n",
    "print(result['2020-09-23']['Item_B'])\n",
    "\n",
    "print('\\n\\n\\n')\n",
    "get_total_sale(result)"
   ]
  }
 ],
 "metadata": {
  "kernelspec": {
   "display_name": "Python 3",
   "language": "python",
   "name": "python3"
  },
  "language_info": {
   "codemirror_mode": {
    "name": "ipython",
    "version": 3
   },
   "file_extension": ".py",
   "mimetype": "text/x-python",
   "name": "python",
   "nbconvert_exporter": "python",
   "pygments_lexer": "ipython3",
   "version": "3.8.5"
  }
 },
 "nbformat": 4,
 "nbformat_minor": 4
}
