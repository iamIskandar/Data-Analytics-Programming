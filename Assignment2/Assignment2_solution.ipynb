{
 "cells": [
  {
   "cell_type": "markdown",
   "metadata": {},
   "source": [
    "# ASSIGNMENT 2\n",
    "Name: Mohammad Irfan Iskandar Bin Zainuddin(A18CS0111)\n",
    "\n",
    "Topic: Numpy and Pandas"
   ]
  },
  {
   "cell_type": "markdown",
   "metadata": {},
   "source": [
    "#    NUMPY"
   ]
  },
  {
   "cell_type": "code",
   "execution_count": 1,
   "metadata": {},
   "outputs": [
    {
     "name": "stdout",
     "output_type": "stream",
     "text": [
      "[1, 1, 1, 1, 1, 1, 1, 1, 1, 1, 1, 1, 1, 1, 0, 1, 1, 1, 1, 1, 1, 1, 1, 1, 0, 1, 1, 1, 1, 1, 1, 1, 1, 1, 0, 1, 0, 0, 1, 1, 0, 1, 1, 0, 1, 1, 0, 1, 1, 1, 1, 0, 1, 1, 1, 1, 1, 0, 0, 0, 1, 1, 1, 1, 0, 0, 0, 0, 1, 1, 1, 1, 1, 1, 1, 1, 1, 1, 0, 1, 1, 1, 0, 1, 1, 1, 1, 0, 0, 1, 1, 1, 0, 1, 1, 0, 1, 1, 0, 0, 1, 1, 1, 1, 1, 1, 1, 1, 0, 0, 1, 0, 0, 1, 1, 1, 1, 0, 1, 0, 1, 1, 0, 1, 1, 1, 0, 1, 0, 1, 0, 1, 1, 1, 1, 1, 1, 0, 1, 0, 0, 0, 0, 1, 1, 1, 1, 1, 1, 1, 1, 1, 1, 1, 1, 1, 1, 1, 1, 1, 1, 1, 1, 1, 1, 1, 1, 0, 1, 1, 0, 0, 0, 0, 1, 1, 1, 1, 1, 1, 1, 1, 0, 0, 1, 1, 1, 1, 1, 1, 1, 1, 1, 1, 0, 1, 1, 0, 1, 1, 1, 0, 0, 0, 1, 0, 1, 1, 1, 1]\n"
     ]
    }
   ],
   "source": [
    "import numpy as np\n",
    "#TASK1\n",
    "#Read the \"Attendance_RAW.txt and save the data into nummpy array\"\n",
    "readFile=open(\"Attendance_RAW.txt\",\"r\")\n",
    "attendance=[]\n",
    "for line in readFile:\n",
    "    #removing the \\n character from a single line\n",
    "    line=int(line.strip())\n",
    "    attendance.append(line)\n",
    "print(attendance)"
   ]
  },
  {
   "cell_type": "code",
   "execution_count": 2,
   "metadata": {},
   "outputs": [
    {
     "name": "stdout",
     "output_type": "stream",
     "text": [
      "[[1 1 1 1 1 1 1 1 1 1 1 1 1 1]\n",
      " [1 1 1 0 1 1 1 1 1 1 1 1 1 1]\n",
      " [1 1 1 1 1 1 0 1 0 0 1 0 0 0]\n",
      " [1 1 1 1 1 0 1 0 1 1 1 1 0 1]\n",
      " [1 1 0 1 0 1 1 0 1 0 1 1 1 1]\n",
      " [1 1 1 1 0 1 0 1 1 0 1 0 1 1]\n",
      " [1 1 0 0 0 1 1 0 0 0 1 0 1 0]\n",
      " [1 1 0 1 0 0 1 0 1 0 1 0 1 0]\n",
      " [1 1 1 1 1 1 0 1 0 1 1 0 1 0]\n",
      " [1 0 1 1 1 1 0 1 1 1 1 1 1 1]\n",
      " [1 1 0 1 1 1 1 1 0 1 1 1 1 0]\n",
      " [1 1 1 1 1 1 1 1 1 1 1 1 1 1]\n",
      " [1 1 1 0 1 0 1 0 1 1 1 1 1 1]\n",
      " [1 1 0 0 1 0 1 1 1 1 1 1 1 1]\n",
      " [0 1 1 0 1 1 1 0 1 1 1 1 0 1]]\n"
     ]
    }
   ],
   "source": [
    "#TASK2\n",
    "#reshape the array so that ROWS represents employees, COLUMNS represent working days\n",
    "Arr=np.array(attendance).reshape(14,15).T\n",
    "print(Arr)"
   ]
  },
  {
   "cell_type": "code",
   "execution_count": 3,
   "metadata": {},
   "outputs": [
    {
     "name": "stdout",
     "output_type": "stream",
     "text": [
      "[0.93, 0.93, 0.67, 0.67, 0.73, 0.73, 0.73, 0.6, 0.73, 0.67, 1.0, 0.67, 0.8, 0.67]\n"
     ]
    }
   ],
   "source": [
    "#TASK3\n",
    "#construct a function that can caluclate and return the list of average of attendance for each day\n",
    "def averagePerDay():\n",
    "    return np.mean(Arr,axis=0)\n",
    "att=averagePerDay()\n",
    "rounded_att=[round(x,2) for x in att]\n",
    "print(rounded_att) "
   ]
  },
  {
   "cell_type": "markdown",
   "metadata": {},
   "source": [
    "# PANDAS"
   ]
  },
  {
   "cell_type": "code",
   "execution_count": null,
   "metadata": {},
   "outputs": [],
   "source": [
    "import pandas as pd\n",
    "#TASK1\n",
    "#using pondas library, read the CSV data file in python into a varibale emp_detail\n",
    "emp_detail=pd.read_csv(\"emp_detail.csv\")\n",
    "emp_detail.index = np.arange(1, len(emp_detail)+1)"
   ]
  },
  {
   "cell_type": "code",
   "execution_count": null,
   "metadata": {},
   "outputs": [],
   "source": [
    "#TASK2\n",
    "#Display the first five rows of records of the data read in step 1.\n",
    "emp_detail.head()"
   ]
  },
  {
   "cell_type": "code",
   "execution_count": null,
   "metadata": {},
   "outputs": [],
   "source": [
    "#TASK3\n",
    "#Using the Numpy object of the attendance record created earlier:\n",
    "#[a]Convert the Numpy object into Data Frame, name it attendance\n",
    "#attendance=pd.DataFrame(Arr, index=range(1,len(attendance.index)+1))\n",
    "attendance=pd.DataFrame(Arr,index=range(1,np.shape(Arr)[0]+1),columns=range(1,np.shape(Arr)[1]+1))\n",
    "attendance\n",
    "\n",
    "#[b] Merge the DataFrames emp_detail and attendance into a new data frame, name it emp_attendance\n",
    "emp_attendance=pd.concat([emp_detail,attendance],axis=1,)\n",
    "emp_attendance"
   ]
  },
  {
   "cell_type": "code",
   "execution_count": null,
   "metadata": {},
   "outputs": [],
   "source": [
    "#Task4\n",
    "#add a column with name \"total\"into the emp_attendance Data Frame that consits of the total no of days\n",
    "#the employee attended the event\n",
    "emp_attendance[\"total\"]=np.sum(Arr,axis=1)\n",
    "emp_attendance"
   ]
  },
  {
   "cell_type": "code",
   "execution_count": null,
   "metadata": {},
   "outputs": [],
   "source": [
    "#TASK5\n",
    "#Add a column with name \"rate\" into the emp_attendance DataFrame that consits of the attendance\n",
    "#rate/percentage the employee throughout the 14 days\n",
    "emp_attendance[\"rate\"]=round((emp_attendance[\"total\"]/np.shape(Arr)[1]),2)\n",
    "emp_attendance"
   ]
  },
  {
   "cell_type": "code",
   "execution_count": null,
   "metadata": {},
   "outputs": [],
   "source": [
    "#TASK6\n",
    "#consider te following rules in classify the attendance\n",
    "#a. Rate>90%:Good\n",
    "#b. 60%<Rate<90%:Moderate\n",
    "#c Rate<60%:Bad\n",
    "#Based on the grouping rule above, get the status for each of the staff and save the status in a\n",
    "#new column \"status\" in the Data Frame\n",
    "emp_attendance[\"status\"]=np.where(emp_attendance[\"rate\"]>0.9,\"Good\"\n",
    "                                  ,np.where(emp_attendance[\"rate\"]<0.6,\"Bad\",\"Moderate\"))\n",
    "emp_attendance"
   ]
  },
  {
   "cell_type": "code",
   "execution_count": null,
   "metadata": {},
   "outputs": [],
   "source": [
    "#TASK7\n",
    "#construct a function that returns the average attendance of all staff over the 14 days according\n",
    "#to the department\n",
    "def averageDepartment(frame):\n",
    "    avgFrame=pd.DataFrame(frame.groupby(\"Department\").mean())\n",
    "    avgFrame.rename(columns={\"rate\":\"Average\"},inplace=True)\n",
    "    return avgFrame\n",
    "\n",
    "new_emp=emp_attendance.copy()\n",
    "new_emp=new_emp.drop([\"status\"],axis=1)\n",
    "averageDepartment(new_emp)"
   ]
  },
  {
   "cell_type": "code",
   "execution_count": null,
   "metadata": {},
   "outputs": [],
   "source": []
  }
 ],
 "metadata": {
  "kernelspec": {
   "display_name": "Python 3",
   "language": "python",
   "name": "python3"
  },
  "language_info": {
   "codemirror_mode": {
    "name": "ipython",
    "version": 3
   },
   "file_extension": ".py",
   "mimetype": "text/x-python",
   "name": "python",
   "nbconvert_exporter": "python",
   "pygments_lexer": "ipython3",
   "version": "3.8.5"
  }
 },
 "nbformat": 4,
 "nbformat_minor": 4
}
