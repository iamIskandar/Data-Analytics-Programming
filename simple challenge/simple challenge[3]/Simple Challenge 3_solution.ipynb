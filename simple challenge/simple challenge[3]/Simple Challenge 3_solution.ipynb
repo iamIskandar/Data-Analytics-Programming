{
 "cells": [
  {
   "cell_type": "code",
   "execution_count": 1,
   "metadata": {},
   "outputs": [
    {
     "name": "stdout",
     "output_type": "stream",
     "text": [
      "[1 0 0 1 1 1 0 1 0 1 1 1 1 1 1 1 1 1 1 1 0 1 0 0 1 1 1 1 1 1 1 0 1 1 1 1 0\n",
      " 0 0 1 1 1 1 1 1 1 1 1 1 1 1 0 0 0 0 0 1 1 1 1 1 1 1 0 0 0 1 1 1 1]\n",
      "\n",
      "['Ali' 'Ahmad' 'Beng' 'Chris' 'Sita' 'Marion' 'Stephen' 'Cobby' 'Akmal'\n",
      " 'Nita']\n",
      "\n",
      "['Sunday' 'Monday' 'Tuesday' 'Wednesday' 'Thursday' 'Friday' 'Saturday']\n"
     ]
    }
   ],
   "source": [
    "import numpy as np\n",
    "\n",
    "attendance = np.array([1,0,0,1,1,1,0,1,0,1,1,1,1,1,1,1,1,1,1,1,0,1,0,0,1,1,1,1,1,1,1,0,1,1,1,1,0,0,0,1,1,1,1,1,1,1,1,1,1,1,1,0,0,0,0,0,1,1,1,1,1,1,1,0,0,0,1,1,1,1])\n",
    "name_list = np.array([\"Ali\",\"Ahmad\",\"Beng\",\"Chris\",\"Sita\",\"Marion\",\"Stephen\",\"Cobby\",\"Akmal\",\"Nita\"])\n",
    "day_list = np.array([\"Sunday\",\"Monday\",\"Tuesday\",\"Wednesday\",\"Thursday\",\"Friday\",\"Saturday\"])\n",
    "print(attendance)\n",
    "#print(len(attendance))\n",
    "print()\n",
    "print(name_list)\n",
    "print()\n",
    "print(day_list)"
   ]
  },
  {
   "cell_type": "markdown",
   "metadata": {},
   "source": [
    "## Description of the data:\n",
    "Given a list of attendance data of an event for 10 students for 1 week where **1 indicates the student attends** for the event, while **0 indicates the student is absent**. The data is given in a simple list described as follows:\n",
    "\n",
    "<br>\n",
    "<img src=\"F1.png\">\n",
    "\n",
    "The namelist and the daylist also given. The order of the day and name in the attendance data are complement to both variables. "
   ]
  },
  {
   "cell_type": "code",
   "execution_count": 2,
   "metadata": {},
   "outputs": [
    {
     "name": "stdout",
     "output_type": "stream",
     "text": [
      "[[1 1 0 1 1 1 1]\n",
      " [0 1 1 0 1 0 1]\n",
      " [0 1 0 1 1 0 1]\n",
      " [1 1 0 1 1 0 0]\n",
      " [1 1 1 1 1 0 0]\n",
      " [1 1 1 1 1 0 0]\n",
      " [0 1 1 0 1 1 1]\n",
      " [1 1 1 0 1 1 1]\n",
      " [0 1 1 0 1 1 1]\n",
      " [1 1 1 1 1 1 1]]\n"
     ]
    }
   ],
   "source": [
    "# Now, based on the given attendance data, create a 2D numpy array (named: attendance_arr) where:\n",
    "# ROW represents each student\n",
    "# COLUMN represents each day\n",
    "# Write the code at below:\n",
    "attendance_arr=attendance.reshape(7,10).T\n",
    "print(attendance_arr)"
   ]
  },
  {
   "cell_type": "code",
   "execution_count": 3,
   "metadata": {},
   "outputs": [
    {
     "name": "stdout",
     "output_type": "stream",
     "text": [
      "[6 4 4 4 5 5 5 6 5 7]\n",
      "[0 0 0 0 0 0 0 0 0 7]\n",
      "Nita 7\n"
     ]
    }
   ],
   "source": [
    "# Write a fuction that returns the list of names, and their corresponding total attendance based on a filter\n",
    "# The function should accept at least ONE argument, which is the no. of days. You should return the results\n",
    "# filtered based on the no. of days. \n",
    "# E.g.: get the names and their total attendance for those who attended more than 4 days\n",
    "def getList(days):\n",
    "    i=0\n",
    "    total=attendance_arr.sum(axis=1)\n",
    "    print(total)\n",
    "    for a in total:\n",
    "        if a<=days:\n",
    "            total[i]=0\n",
    "        i+=1\n",
    "    print(total)\n",
    "    return total\n",
    "       \n",
    "y=getList(6)\n",
    "index=0\n",
    "for name in name_list:\n",
    "    if y[index]!=0:\n",
    "        print(name,y[index])\n",
    "    index+=1"
   ]
  },
  {
   "cell_type": "code",
   "execution_count": 4,
   "metadata": {},
   "outputs": [
    {
     "name": "stdout",
     "output_type": "stream",
     "text": [
      "Akmal attendance Record:  [0 1 1 0 1 1 1]\n"
     ]
    }
   ],
   "source": [
    "# Write a function that returns the 7-day attendance for a specific person.\n",
    "# The function should accept at least ONE argument, which is the name of the person. You should return the results\n",
    "# based on the name.\n",
    "# E.g.: get the 7-day attendance for \"Akmal\"\n",
    "def someone(name):\n",
    "    i=0\n",
    "    for x in name_list:\n",
    "        if x==name:\n",
    "             return attendance_arr[i]\n",
    "        i+=1\n",
    "print(\"Akmal attendance Record: \",someone(\"Akmal\"))"
   ]
  },
  {
   "cell_type": "code",
   "execution_count": 5,
   "metadata": {},
   "outputs": [
    {
     "name": "stdout",
     "output_type": "stream",
     "text": [
      "[ 6 10  7  6 10  5  7]\n",
      "[ 6 10  7  6 10  0  7]\n",
      "Sunday 6\n",
      "Monday 10\n",
      "Tuesday 7\n",
      "Wednesday 6\n",
      "Thursday 10\n",
      "Saturday 7\n"
     ]
    }
   ],
   "source": [
    "# Write a fuction that returns the list of days, and the corresponding total attendance based on a filter\n",
    "# The function should accept at least ONE argument, which is the no. of attendees. You should return the results\n",
    "# filtered based on the no. of attendees. \n",
    "# E.g.: get the list of days and the total attendance for where if the attendees exceed 5 people. \n",
    "def getDay(attendees):\n",
    "    total=attendance_arr.sum(axis=0)\n",
    "    print(total)\n",
    "    index=0\n",
    "    for a in total:\n",
    "        if a<=attendees:\n",
    "            total[index]=0\n",
    "        index+=1\n",
    "    print(total)\n",
    "    return total\n",
    "\n",
    "x=getDay(5)\n",
    "index=0\n",
    "for a in day_list:\n",
    "    if x[index]!=0:\n",
    "        print(a,x[index])\n",
    "    index+=1"
   ]
  },
  {
   "cell_type": "code",
   "execution_count": 6,
   "metadata": {},
   "outputs": [
    {
     "name": "stdout",
     "output_type": "stream",
     "text": [
      "Sunday  =  60.0 %\n",
      "Monday  =  100.0 %\n",
      "Tuesday  =  70.0 %\n",
      "Wednesday  =  60.0 %\n",
      "Thursday  =  100.0 %\n",
      "Friday  =  50.0 %\n",
      "Saturday  =  70.0 %\n"
     ]
    }
   ],
   "source": [
    "# Write a function that returns the percentage of attendance for each day.\n",
    "def percentageDay():\n",
    "    return ((attendance_arr.sum(axis=0)/10)*100)\n",
    "x=percentageDay()\n",
    "index=0\n",
    "for y in day_list:\n",
    "    print(y,\" = \",x[index],\"%\")\n",
    "    index+=1"
   ]
  },
  {
   "cell_type": "code",
   "execution_count": 7,
   "metadata": {},
   "outputs": [
    {
     "name": "stdout",
     "output_type": "stream",
     "text": [
      "Ali  =  85.71 %\n",
      "Ahmad  =  57.14 %\n",
      "Beng  =  57.14 %\n",
      "Chris  =  57.14 %\n",
      "Sita  =  71.43 %\n",
      "Marion  =  71.43 %\n",
      "Stephen  =  71.43 %\n",
      "Cobby  =  85.71 %\n",
      "Akmal  =  71.43 %\n",
      "Nita  =  100.0 %\n"
     ]
    }
   ],
   "source": [
    "# Write a function that returns the percentage of attendance for each student.\n",
    "def percentageStudent():\n",
    "    return ((attendance_arr.sum(axis=1)/7)*100)\n",
    "a=percentageStudent()\n",
    "index=0\n",
    "for b in name_list:\n",
    "    print(b,\" = \",round(a[index],2),\"%\")\n",
    "    index+=1"
   ]
  },
  {
   "cell_type": "code",
   "execution_count": null,
   "metadata": {},
   "outputs": [],
   "source": []
  }
 ],
 "metadata": {
  "kernelspec": {
   "display_name": "Python 3",
   "language": "python",
   "name": "python3"
  },
  "language_info": {
   "codemirror_mode": {
    "name": "ipython",
    "version": 3
   },
   "file_extension": ".py",
   "mimetype": "text/x-python",
   "name": "python",
   "nbconvert_exporter": "python",
   "pygments_lexer": "ipython3",
   "version": "3.8.5"
  }
 },
 "nbformat": 4,
 "nbformat_minor": 4
}
