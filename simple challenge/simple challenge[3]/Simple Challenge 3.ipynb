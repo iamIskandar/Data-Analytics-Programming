{
 "cells": [
  {
   "cell_type": "code",
   "execution_count": 1,
   "metadata": {},
   "outputs": [
    {
     "name": "stdout",
     "output_type": "stream",
     "text": [
      "[1 0 0 1 1 1 0 1 0 1 1 1 1 1 1 1 1 1 1 1 0 1 0 0 1 1 1 1 1 1 1 0 1 1 1 1 0\n",
      " 0 0 1 1 1 1 1 1 1 1 1 1 1 1 0 0 0 0 0 1 1 1 1 1 1 1 0 0 0 1 1 1 1]\n",
      "70\n",
      "\n",
      "['Ali' 'Ahmad' 'Beng' 'Chris' 'Sita' 'Marion' 'Stephen' 'Cobby' 'Akmal'\n",
      " 'Nita']\n",
      "\n",
      "['Sunday' 'Monday' 'Tuesday' 'Wednesday' 'Thursday' 'Friday' 'Saturday']\n"
     ]
    }
   ],
   "source": [
    "import numpy as np\n",
    "\n",
    "attendance = np.array([1,0,0,1,1,1,0,1,0,1,1,1,1,1,1,1,1,1,1,1,0,1,0,0,1,1,1,1,1,1,1,0,1,1,1,1,0,0,0,1,1,1,1,1,1,1,1,1,1,1,1,0,0,0,0,0,1,1,1,1,1,1,1,0,0,0,1,1,1,1])\n",
    "name_list = np.array([\"Ali\",\"Ahmad\",\"Beng\",\"Chris\",\"Sita\",\"Marion\",\"Stephen\",\"Cobby\",\"Akmal\",\"Nita\"])\n",
    "day_list = np.array([\"Sunday\",\"Monday\",\"Tuesday\",\"Wednesday\",\"Thursday\",\"Friday\",\"Saturday\"])\n",
    "\n",
    "print(attendance)\n",
    "print(len(attendance))\n",
    "print()\n",
    "print(name_list)\n",
    "print()\n",
    "print(day_list)"
   ]
  },
  {
   "cell_type": "markdown",
   "metadata": {},
   "source": [
    "## Description of the data:\n",
    "Given a list of attendance data of an event for 10 students for 1 week where **1 indicates the student attends** for the event, while **0 indicates the student is absent**. The data is given in a simple list described as follows:\n",
    "\n",
    "<br>\n",
    "<img src=\"F1.png\">\n",
    "\n",
    "The namelist and the daylist also given. The order of the day and name in the attendance data are complement to both variables. "
   ]
  },
  {
   "cell_type": "code",
   "execution_count": 2,
   "metadata": {},
   "outputs": [
    {
     "name": "stdout",
     "output_type": "stream",
     "text": [
      "[[1 1 0 1 1 1 1]\n",
      " [0 1 1 0 1 0 1]\n",
      " [0 1 0 1 1 0 1]\n",
      " [1 1 0 1 1 0 0]\n",
      " [1 1 1 1 1 0 0]\n",
      " [1 1 1 1 1 0 0]\n",
      " [0 1 1 0 1 1 1]\n",
      " [1 1 1 0 1 1 1]\n",
      " [0 1 1 0 1 1 1]\n",
      " [1 1 1 1 1 1 1]]\n"
     ]
    }
   ],
   "source": [
    "# Now, based on the given attendance data, create a 2D numpy array (named: attendance_arr) where:\n",
    "# ROW represents each student\n",
    "# COLUMN represents each day\n",
    "# Write the code at below:\n",
    "attendance_arr=np.array(attendance).reshape(7,10).T\n",
    "print(attendance_arr)"
   ]
  },
  {
   "cell_type": "code",
   "execution_count": 3,
   "metadata": {},
   "outputs": [
    {
     "name": "stdout",
     "output_type": "stream",
     "text": [
      "{'Ali': 6, 'Sita': 5, 'Marion': 5, 'Stephen': 5, 'Cobby': 6, 'Akmal': 5, 'Nita': 7}\n"
     ]
    }
   ],
   "source": [
    "# Write a fuction that returns the list of names, and their corresponding total attendance based on a filter\n",
    "# The function should accept at least ONE argument, which is the no. of days. You should return the results\n",
    "# filtered based on the no. of days. \n",
    "# E.g.: get the names and their total attendance for those who attended more than 4 days\n",
    "def total_attendance(day):\n",
    "    mapping={}\n",
    "    total=np.sum(attendance_arr,axis=1)\n",
    "    i=0\n",
    "    for name in name_list:\n",
    "        mapping[name]=total[i]\n",
    "        if mapping[name]<=day:\n",
    "            del mapping[name]\n",
    "        i+=1\n",
    "    return mapping\n",
    "\n",
    "result=total_attendance(4)\n",
    "print(result)"
   ]
  },
  {
   "cell_type": "code",
   "execution_count": 4,
   "metadata": {},
   "outputs": [
    {
     "name": "stdout",
     "output_type": "stream",
     "text": [
      "[0 1 1 0 1 1 1]\n"
     ]
    }
   ],
   "source": [
    "# Write a function that returns the 7-day attendance for a specific person.\n",
    "# The function should accept at least ONE argument, which is the name of the person. You should return the results\n",
    "# based on the name.\n",
    "# E.g.: get the 7-day attendance for \"Akmal\"\n",
    "\n",
    "def personAttendance(name):\n",
    "    index=0\n",
    "    for nama in name_list:\n",
    "        if nama==name:\n",
    "            return attendance_arr[index,:]\n",
    "        index+=1\n",
    "            \n",
    "    \n",
    "PersonResult=personAttendance('Akmal')\n",
    "print(PersonResult)"
   ]
  },
  {
   "cell_type": "code",
   "execution_count": 5,
   "metadata": {},
   "outputs": [
    {
     "name": "stdout",
     "output_type": "stream",
     "text": [
      "{'Sunday': 6, 'Monday': 10, 'Tuesday': 7, 'Wednesday': 6, 'Thursday': 10, 'Saturday': 7}\n"
     ]
    }
   ],
   "source": [
    "# Write a fuction that returns the list of days, and the corresponding total attendance based on a filter\n",
    "# The function should accept at least ONE argument, which is the no. of attendees. You should return the results\n",
    "# filtered based on the no. of attendees. \n",
    "# E.g.: get the list of days and the total attendance for where if the attendees exceed 5 people. \n",
    "\n",
    "def getDay(number):\n",
    "    mapping={}\n",
    "    total=np.sum(attendance_arr,axis=0)\n",
    "    i=0\n",
    "    for day in day_list:\n",
    "        mapping[day]=total[i]\n",
    "        if mapping[day]<=number:\n",
    "            del mapping[day]\n",
    "        i+=1\n",
    "    return mapping\n",
    "\n",
    "DayResult=getDay(5)\n",
    "print(DayResult)"
   ]
  },
  {
   "cell_type": "code",
   "execution_count": 6,
   "metadata": {},
   "outputs": [
    {
     "name": "stdout",
     "output_type": "stream",
     "text": [
      "{'Sunday': 60.0, 'Monday': 100.0, 'Tuesday': 70.0, 'Wednesday': 60.0, 'Thursday': 100.0, 'Friday': 50.0, 'Saturday': 70.0}\n"
     ]
    }
   ],
   "source": [
    "# Write a function that returns the percentage of attendance for each day.\n",
    "\n",
    "def percentageDay():\n",
    "    mappingDay={}\n",
    "    total=(np.sum(attendance_arr,axis=0)/10)*100\n",
    "    i=0\n",
    "    for day in day_list:\n",
    "        mappingDay[day]=total[i]\n",
    "        i+=1\n",
    "    return mappingDay\n",
    "\n",
    "resultDay=percentageDay()\n",
    "print(resultDay)"
   ]
  },
  {
   "cell_type": "code",
   "execution_count": 7,
   "metadata": {},
   "outputs": [
    {
     "name": "stdout",
     "output_type": "stream",
     "text": [
      "{'Ali': 85.71, 'Ahmad': 57.14, 'Beng': 57.14, 'Chris': 57.14, 'Sita': 71.43, 'Marion': 71.43, 'Stephen': 71.43, 'Cobby': 85.71, 'Akmal': 71.43, 'Nita': 100.0}\n"
     ]
    }
   ],
   "source": [
    "# Write a function that returns the percentage of attendance for each student.\n",
    "def percentageStudent():\n",
    "    mappingStudent={}\n",
    "    total=(np.sum(attendance_arr,axis=1)/7)*100\n",
    "    i=0\n",
    "    for student in name_list:\n",
    "        mappingStudent[student]=round(total[i],2)\n",
    "        i+=1\n",
    "    return mappingStudent\n",
    "\n",
    "resultStudent=percentageStudent()\n",
    "print(resultStudent)"
   ]
  }
 ],
 "metadata": {
  "kernelspec": {
   "display_name": "Python 3",
   "language": "python",
   "name": "python3"
  },
  "language_info": {
   "codemirror_mode": {
    "name": "ipython",
    "version": 3
   },
   "file_extension": ".py",
   "mimetype": "text/x-python",
   "name": "python",
   "nbconvert_exporter": "python",
   "pygments_lexer": "ipython3",
   "version": "3.8.5"
  }
 },
 "nbformat": 4,
 "nbformat_minor": 4
}
