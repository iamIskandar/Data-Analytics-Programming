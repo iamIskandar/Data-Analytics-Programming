{
 "cells": [
  {
   "cell_type": "code",
   "execution_count": 1,
   "metadata": {},
   "outputs": [],
   "source": [
    "mappingPost={}\n",
    "lines=[inputFile.strip() for inputFile in open('data.txt')]\n",
    "update=[lines[x].split('\"') for x in range(len(lines))]\n",
    "i=0\n",
    "for x in update:\n",
    "    mappingPost[i]=x\n",
    "    i=i+1"
   ]
  },
  {
   "cell_type": "code",
   "execution_count": 2,
   "metadata": {},
   "outputs": [
    {
     "data": {
      "text/plain": [
       "[\"In compliance with the government's recent announcement of the CMCO in WP Kuala Lumpur, Selangor, Putrajaya and Sabah, we've temporarily changed our operating hours. But don't worry, our kitchens are still fryin' and our restaurants are still open, just check our latest hours before you head out : https://kfc.com.my/store-info  Delivery - opt for Contactless Contactless Takeaway with Self Collect - you can now choose to collect from Cashier or stay in your car with Pandu Ambil. Drive Thru Dine-In, but limited to 2 pax per table.  We also encourage you to pay with cashless methods, available across all KFC. Keep calm, and we'll keep frying our best to serve you with your favourite Kepci meals.  #StaySafe #KFCKanAda\"]"
      ]
     },
     "execution_count": 2,
     "metadata": {},
     "output_type": "execute_result"
    }
   ],
   "source": [
    "test=mappingPost[0]\n",
    "test"
   ]
  },
  {
   "cell_type": "code",
   "execution_count": 11,
   "metadata": {},
   "outputs": [
    {
     "ename": "AttributeError",
     "evalue": "'list' object has no attribute 'split'",
     "output_type": "error",
     "traceback": [
      "\u001b[1;31m---------------------------------------------------------------------------\u001b[0m",
      "\u001b[1;31mAttributeError\u001b[0m                            Traceback (most recent call last)",
      "\u001b[1;32m<ipython-input-11-6c7fac961f76>\u001b[0m in \u001b[0;36m<module>\u001b[1;34m\u001b[0m\n\u001b[0;32m      1\u001b[0m \u001b[0mhashtags\u001b[0m\u001b[1;33m=\u001b[0m\u001b[1;33m[\u001b[0m\u001b[1;33m]\u001b[0m\u001b[1;33m\u001b[0m\u001b[1;33m\u001b[0m\u001b[0m\n\u001b[1;32m----> 2\u001b[1;33m \u001b[0mupdate\u001b[0m\u001b[1;33m[\u001b[0m\u001b[1;36m0\u001b[0m\u001b[1;33m]\u001b[0m\u001b[1;33m.\u001b[0m\u001b[0msplit\u001b[0m\u001b[1;33m(\u001b[0m\u001b[1;34m'#'\u001b[0m\u001b[1;33m)\u001b[0m\u001b[1;33m\u001b[0m\u001b[1;33m\u001b[0m\u001b[0m\n\u001b[0m",
      "\u001b[1;31mAttributeError\u001b[0m: 'list' object has no attribute 'split'"
     ]
    }
   ],
   "source": [
    "hashtags=[]\n",
    "update[0].split('#')"
   ]
  },
  {
   "cell_type": "code",
   "execution_count": 12,
   "metadata": {},
   "outputs": [],
   "source": [
    "for x in update[0]:\n",
    "    new=x.split('#')"
   ]
  },
  {
   "cell_type": "code",
   "execution_count": 13,
   "metadata": {},
   "outputs": [
    {
     "data": {
      "text/plain": [
       "[\"In compliance with the government's recent announcement of the CMCO in WP Kuala Lumpur, Selangor, Putrajaya and Sabah, we've temporarily changed our operating hours. But don't worry, our kitchens are still fryin' and our restaurants are still open, just check our latest hours before you head out : https://kfc.com.my/store-info  Delivery - opt for Contactless Contactless Takeaway with Self Collect - you can now choose to collect from Cashier or stay in your car with Pandu Ambil. Drive Thru Dine-In, but limited to 2 pax per table.  We also encourage you to pay with cashless methods, available across all KFC. Keep calm, and we'll keep frying our best to serve you with your favourite Kepci meals.  \",\n",
       " 'StaySafe ',\n",
       " 'KFCKanAda']"
      ]
     },
     "execution_count": 13,
     "metadata": {},
     "output_type": "execute_result"
    }
   ],
   "source": [
    "new"
   ]
  },
  {
   "cell_type": "code",
   "execution_count": 14,
   "metadata": {},
   "outputs": [
    {
     "data": {
      "text/plain": [
       "3"
      ]
     },
     "execution_count": 14,
     "metadata": {},
     "output_type": "execute_result"
    }
   ],
   "source": [
    "len(new)"
   ]
  },
  {
   "cell_type": "code",
   "execution_count": 16,
   "metadata": {},
   "outputs": [
    {
     "data": {
      "text/plain": [
       "5"
      ]
     },
     "execution_count": 16,
     "metadata": {},
     "output_type": "execute_result"
    }
   ],
   "source": [
    "len(update)"
   ]
  },
  {
   "cell_type": "code",
   "execution_count": null,
   "metadata": {},
   "outputs": [],
   "source": [
    "for x in range(len(update)):\n",
    "    new=x.split()"
   ]
  }
 ],
 "metadata": {
  "kernelspec": {
   "display_name": "Python 3",
   "language": "python",
   "name": "python3"
  },
  "language_info": {
   "codemirror_mode": {
    "name": "ipython",
    "version": 3
   },
   "file_extension": ".py",
   "mimetype": "text/x-python",
   "name": "python",
   "nbconvert_exporter": "python",
   "pygments_lexer": "ipython3",
   "version": "3.8.5"
  }
 },
 "nbformat": 4,
 "nbformat_minor": 4
}
